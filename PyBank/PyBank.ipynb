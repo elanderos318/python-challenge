{
 "cells": [
  {
   "cell_type": "code",
   "execution_count": 11,
   "metadata": {
    "scrolled": true
   },
   "outputs": [],
   "source": [
    "# PyBank Challenge\n",
    "\n",
    "#import dependencies\n",
    "\n",
    "import pandas as pd\n",
    "\n",
    "# read csv file\n",
    "\n",
    "filepath = \"budget_data.csv\"\n",
    "pybank_originaldf = pd.read_csv(filepath)\n",
    "#pybank_originaldf.head(30)\n",
    "#help(pybank_originaldf)\n",
    "#type(pybank_originaldf)\n"
   ]
  },
  {
   "cell_type": "code",
   "execution_count": 12,
   "metadata": {},
   "outputs": [],
   "source": [
    "#Define total months\n",
    "\n",
    "Total_Months = pybank_originaldf[\"Date\"].count()\n",
    "#Total_Months"
   ]
  },
  {
   "cell_type": "code",
   "execution_count": 13,
   "metadata": {},
   "outputs": [],
   "source": [
    "#Define Total Net Amount of \"Profit/Losses\" over the entire peroid\n",
    "\n",
    "Net_Profit = pybank_originaldf[\"Profit/Losses\"].sum()\n",
    "#Net_Profit"
   ]
  },
  {
   "cell_type": "code",
   "execution_count": 14,
   "metadata": {},
   "outputs": [],
   "source": [
    "#Create Monthly Change list and Series for \"Profit/Losses\"\n",
    "\n",
    "Profit_Losses = pd.Series.tolist(pybank_originaldf[\"Profit/Losses\"])\n",
    "#type(Profit_Losses)\n",
    "\n",
    "change = []\n",
    "\n",
    "for x in range(1, len(Profit_Losses)):\n",
    "    \n",
    "    change.append(Profit_Losses[x] - Profit_Losses[x - 1])\n",
    "    \n",
    "change_series = pd.Series(change)\n",
    "\n",
    "#change_series.head(30)\n",
    "    "
   ]
  },
  {
   "cell_type": "code",
   "execution_count": 25,
   "metadata": {},
   "outputs": [],
   "source": [
    "#Find average change in \"Profit/Losses\" between months over the entire period\n",
    "\n",
    "average_change = change_series.sum() / change_series.count()\n",
    "\n",
    "average_change = round(average_change, 2)\n",
    "\n",
    "#average_change\n"
   ]
  },
  {
   "cell_type": "code",
   "execution_count": 27,
   "metadata": {},
   "outputs": [
    {
     "name": "stdout",
     "output_type": "stream",
     "text": [
      "Feb-2012\n"
     ]
    }
   ],
   "source": [
    "# Find Greatest Increase in profits (date and amount) over the entire period\n",
    "\n",
    "max = change[0]\n",
    "\n",
    "max_index = 0\n",
    "\n",
    "for x in range(len(change)):\n",
    "    \n",
    "    if change[x] > max:\n",
    "        \n",
    "        max = change[x]\n",
    "        \n",
    "        max_index = x\n",
    "        \n",
    "# Create Date List\n",
    "\n",
    "Date_List = pd.Series.tolist(pybank_originaldf[\"Date\"])\n",
    "    \n",
    "#print(max)\n",
    "max_date = Date_List[max_index + 1]\n",
    "#print(max_date)"
   ]
  },
  {
   "cell_type": "code",
   "execution_count": 29,
   "metadata": {},
   "outputs": [],
   "source": [
    "# Find Greatest Decrease in Losses (date and amount) over the entire period\n",
    "\n",
    "min = change[0]\n",
    "\n",
    "min_index = 0\n",
    "\n",
    "for x in range(len(change)):\n",
    "    \n",
    "    if change[x] < min:\n",
    "        \n",
    "        min = change[x]\n",
    "        \n",
    "        min_index = x\n",
    "        \n",
    "#print(min)\n",
    "min_date = Date_List[min_index + 1]\n",
    "#print(min_date)"
   ]
  },
  {
   "cell_type": "code",
   "execution_count": 35,
   "metadata": {},
   "outputs": [
    {
     "name": "stdout",
     "output_type": "stream",
     "text": [
      "Financial Analysis\n",
      "----------------------------\n",
      "Total Months: 86\n",
      "Total: 38382578\n",
      "Average Change: $-2315.12\n",
      "Greatest Increase in Profits: Feb-2012 ($1926159)\n",
      "Greatest Decrease in Profits: Sep-2013 ($-2196167)\n"
     ]
    }
   ],
   "source": [
    "# Begin the financial anaylsis file\n",
    "\n",
    "print(\"Financial Analysis\")\n",
    "print(\"----------------------------\")\n",
    "#printThe total number of months included in the dataset\n",
    "print(f\"Total Months: {Total_Months}\")\n",
    "#print The total net amount of \"Profit/Losses\" over the entire period\n",
    "print(f\"Total: {Net_Profit}\")\n",
    "#print The average change in \"Profit/Losses\" between months over the entire period\n",
    "print(f\"Average Change: ${average_change}\")\n",
    "#print The greatest increase in profits (date and amount) over the entire period\n",
    "print(f\"Greatest Increase in Profits: {max_date} (${max})\")\n",
    "#print The greatest decrease in losses (date and amount) over the entire period\n",
    "print(f\"Greatest Decrease in Profits: {min_date} (${min})\")"
   ]
  },
  {
   "cell_type": "code",
   "execution_count": 44,
   "metadata": {},
   "outputs": [
    {
     "data": {
      "text/plain": [
       "208"
      ]
     },
     "execution_count": 44,
     "metadata": {},
     "output_type": "execute_result"
    }
   ],
   "source": [
    "#Export\n",
    "output = f\"\"\"Financial Analysis\n",
    "----------------------------\n",
    "Total Months: {Total_Months}\n",
    "Total: {Net_Profit}\n",
    "Average Change: ${average_change}\n",
    "Greatest Increase in Profits: {max_date} (${max})\n",
    "Greatest Decrease in Profits: {min_date} (${min})\n",
    "\"\"\"\n",
    "#print(output)\n",
    "\n",
    "pybank_output = open(\"pybank_output.txt\", \"w+\")\n",
    "pybank_output.write(f\"{output}\")"
   ]
  }
 ],
 "metadata": {
  "kernelspec": {
   "display_name": "Python 3",
   "language": "python",
   "name": "python3"
  },
  "language_info": {
   "codemirror_mode": {
    "name": "ipython",
    "version": 3
   },
   "file_extension": ".py",
   "mimetype": "text/x-python",
   "name": "python",
   "nbconvert_exporter": "python",
   "pygments_lexer": "ipython3",
   "version": "3.7.0"
  }
 },
 "nbformat": 4,
 "nbformat_minor": 2
}
