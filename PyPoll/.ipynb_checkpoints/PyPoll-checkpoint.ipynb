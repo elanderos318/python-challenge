{
 "cells": [
  {
   "cell_type": "code",
   "execution_count": 1,
   "metadata": {},
   "outputs": [],
   "source": [
    "#PyPoll\n",
    "import pandas as pd\n",
    "\n",
    "#read csv file\n",
    "\n",
    "filepath = \"election_data.csv\"\n",
    "pypoll_originaldf = pd.read_csv(filepath)\n",
    "\n",
    "#pypoll_originaldf.head(50)"
   ]
  },
  {
   "cell_type": "code",
   "execution_count": 2,
   "metadata": {},
   "outputs": [],
   "source": [
    "#Find total votes\n",
    "\n",
    "total_votes = pypoll_originaldf[\"Voter ID\"].count()\n",
    "#print(total_votes)"
   ]
  },
  {
   "cell_type": "code",
   "execution_count": 3,
   "metadata": {},
   "outputs": [],
   "source": [
    "# Find candidates\n",
    "\n",
    "candidates = pypoll_originaldf[\"Candidate\"].unique()\n",
    "#candidates"
   ]
  },
  {
   "cell_type": "code",
   "execution_count": 4,
   "metadata": {},
   "outputs": [],
   "source": [
    "#Find percentage of votes each candidate won\n",
    "#Find total votes for each candidate\n",
    "\n",
    "#Khan\n",
    "Khandf = pypoll_originaldf.loc[pypoll_originaldf[\"Candidate\"] == \"Khan\"]\n",
    "Khancount = Khandf[\"Voter ID\"].count()\n",
    "Khanpercent = Khancount / total_votes * 100\n",
    "Khanpercent = round(Khanpercent, 3)\n",
    "#Khanpercent\n",
    "\n",
    "#Correy\n",
    "Correydf = pypoll_originaldf.loc[pypoll_originaldf[\"Candidate\"] == \"Correy\"]\n",
    "Correycount = Correydf[\"Voter ID\"].count()\n",
    "Correypercent = Correycount / total_votes * 100\n",
    "Correypercent = round(Correypercent, 3)\n",
    "\n",
    "#Correypercent\n",
    "\n",
    "#Li\n",
    "Lidf = pypoll_originaldf.loc[pypoll_originaldf[\"Candidate\"] == \"Li\"]\n",
    "Licount = Lidf[\"Voter ID\"].count()\n",
    "Lipercent = Licount / total_votes * 100\n",
    "Lipercent = round(Lipercent, 3)\n",
    "\n",
    "#Lipercent\n",
    "\n",
    "#O'Tooley\n",
    "Tooleydf = pypoll_originaldf.loc[pypoll_originaldf[\"Candidate\"] == \"O'Tooley\"]\n",
    "Tooleycount = Tooleydf[\"Voter ID\"].count()\n",
    "Tooleypercent = Tooleycount / total_votes * 100\n",
    "Tooleypercent = round(Tooleypercent, 3)\n",
    "\n",
    "#Tooleypercent"
   ]
  },
  {
   "cell_type": "code",
   "execution_count": 5,
   "metadata": {},
   "outputs": [],
   "source": [
    "#Find winner of the election based on popular vote\n",
    "\n",
    "votes = [Khancount, Correycount, Licount, Tooleycount]\n",
    "\n",
    "index = 0\n",
    "\n",
    "winner = 0\n",
    "\n",
    "for x in votes:\n",
    "    \n",
    "    if x > winner:\n",
    "        \n",
    "        winner = x\n",
    "    \n",
    "        index = votes.index(x)\n",
    "        \n",
    "winner_name = candidates[index]\n"
   ]
  },
  {
   "cell_type": "code",
   "execution_count": 6,
   "metadata": {},
   "outputs": [
    {
     "name": "stdout",
     "output_type": "stream",
     "text": [
      "Election Results\n",
      "-------------------------\n",
      "Total Votes: 3521001\n",
      "-------------------------\n",
      "Khan: 63.0% (2218231)\n",
      "Correy: 20.0% (704200)\n",
      "Li: 14.0% (492940)\n",
      "Tooley: 3.0% (105630)\n",
      "-------------------------\n",
      "Winner: Khan\n",
      "-------------------------\n"
     ]
    }
   ],
   "source": [
    "#Analysis\n",
    "print(\"Election Results\")\n",
    "print(\"-------------------------\")\n",
    "print(f\"Total Votes: {total_votes}\")\n",
    "print(\"-------------------------\")\n",
    "print(f\"Khan: {Khanpercent}% ({Khancount})\")\n",
    "print(f\"Correy: {Correypercent}% ({Correycount})\")\n",
    "print(f\"Li: {Lipercent}% ({Licount})\")\n",
    "print(f\"Tooley: {Tooleypercent}% ({Tooleycount})\")\n",
    "print(\"-------------------------\")\n",
    "print(f\"Winner: {winner_name}\")\n",
    "print(\"-------------------------\")\n"
   ]
  },
  {
   "cell_type": "code",
   "execution_count": 7,
   "metadata": {},
   "outputs": [],
   "source": [
    "# Create variable for export string\n",
    "output = f\"\"\"Election Results\n",
    "-------------------------\n",
    "Total Votes: {total_votes}\n",
    "-------------------------\n",
    "Khan: {Khanpercent}% ({Khancount})\n",
    "Correy: {Correypercent}% ({Correycount})\n",
    "Li: {Lipercent}% ({Licount})\n",
    "Tooley: {Tooleypercent}% ({Tooleycount})\n",
    "-------------------------\n",
    "Winner: {winner_name}\n",
    "-------------------------\n",
    "                    \"\"\"\n",
    "#print(output)"
   ]
  },
  {
   "cell_type": "code",
   "execution_count": 9,
   "metadata": {},
   "outputs": [
    {
     "data": {
      "text/plain": [
       "261"
      ]
     },
     "execution_count": 9,
     "metadata": {},
     "output_type": "execute_result"
    }
   ],
   "source": [
    "#Export\n",
    "pypoll_output = open(\"pypoll_output.txt\", \"w+\")\n",
    "pypoll_output.write(f\"{output}\")"
   ]
  },
  {
   "cell_type": "code",
   "execution_count": 9,
   "metadata": {},
   "outputs": [],
   "source": [
    "#The total number of votes cast\n",
    "#A complete list of candidates who received votes\n",
    "#The percentage of votes each candidate won\n",
    "#The total number of votes each candidate won\n",
    "#The winner of the election based on popular vote."
   ]
  },
  {
   "cell_type": "code",
   "execution_count": null,
   "metadata": {},
   "outputs": [],
   "source": []
  }
 ],
 "metadata": {
  "kernelspec": {
   "display_name": "Python 3",
   "language": "python",
   "name": "python3"
  },
  "language_info": {
   "codemirror_mode": {
    "name": "ipython",
    "version": 3
   },
   "file_extension": ".py",
   "mimetype": "text/x-python",
   "name": "python",
   "nbconvert_exporter": "python",
   "pygments_lexer": "ipython3",
   "version": "3.7.0"
  }
 },
 "nbformat": 4,
 "nbformat_minor": 2
}
